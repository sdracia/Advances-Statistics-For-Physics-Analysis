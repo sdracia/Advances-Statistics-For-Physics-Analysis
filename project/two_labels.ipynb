{
 "cells": [
  {
   "cell_type": "code",
   "execution_count": 80,
   "metadata": {
    "vscode": {
     "languageId": "r"
    }
   },
   "outputs": [],
   "source": [
    "source(\"./aux_2.R\")"
   ]
  },
  {
   "cell_type": "code",
   "execution_count": 81,
   "metadata": {
    "vscode": {
     "languageId": "r"
    }
   },
   "outputs": [],
   "source": [
    "dataset <- read.csv(\"two_label_dataset.csv\", col.names = c(\"ID\", \"Title\", \"Author\", \"Text\", \"Label\"))\n",
    "classes <- as.integer(sort(unique(dataset$Label)))"
   ]
  },
  {
   "cell_type": "code",
   "execution_count": 82,
   "metadata": {
    "vscode": {
     "languageId": "r"
    }
   },
   "outputs": [],
   "source": [
    "dataset$Text <- clean(dataset$Text)\n",
    "dataset <- clean_empty_rows(dataset)"
   ]
  },
  {
   "cell_type": "code",
   "execution_count": 83,
   "metadata": {
    "vscode": {
     "languageId": "r"
    }
   },
   "outputs": [],
   "source": [
    "eighty_percent <- as.integer(length(dataset$Text) * 0.8)\n",
    "\n",
    "training_set <- dataset[1:eighty_percent, ]\n",
    "test_set <- dataset[(eighty_percent + 1):length(dataset$Text), ]"
   ]
  },
  {
   "cell_type": "code",
   "execution_count": 84,
   "metadata": {
    "vscode": {
     "languageId": "r"
    }
   },
   "outputs": [],
   "source": [
    "# Assuming you have defined train_multinomial_nb and apply_multinomial_nb functions\n",
    "\n",
    "# Define k-fold cross-validation function\n",
    "kfold_cross_validation <- function(dataset, k = 5, occ_thresholds = c(1, 2, 3)) {\n",
    "  set.seed(123)  # Set seed for reproducibility\n",
    "  \n",
    "  n <- nrow(dataset)\n",
    "  fold_size <- floor(n / k)\n",
    "  \n",
    "  accuracies <- matrix(0, nrow = k, ncol = length(occ_thresholds))\n",
    "  \n",
    "  for (fold in 1:k) {\n",
    "    # Determine indices for train and validation sets\n",
    "    validation_indices <- ((fold - 1) * fold_size + 1):(fold * fold_size)\n",
    "    train_indices <- setdiff(1:n, validation_indices)\n",
    "    \n",
    "    # Split dataset into train and validation sets\n",
    "    training_set <- dataset[train_indices, ]\n",
    "    validation_set <- dataset[validation_indices, ]\n",
    "    \n",
    "    # Iterate over different occ_threshold values\n",
    "    for (i in seq_along(occ_thresholds)) {\n",
    "      occ_threshold <- occ_thresholds[i]\n",
    "      \n",
    "      # Train Naive Bayes model\n",
    "      model <- train_multinomial_nb_new_two_label(classes, training_set, occ_threshold)\n",
    "      \n",
    "      # Predict on validation set\n",
    "      pred_labels <- sapply(validation_set$Text, function(doc) {\n",
    "        apply_multinomial_nb(classes, model$vocab, model$prior, model$condprob, doc)\n",
    "      })\n",
    "      \n",
    "      # Calculate accuracy\n",
    "      correct_predictions <- sum(validation_set$Label == pred_labels)\n",
    "      total_predictions <- length(validation_set$Label)\n",
    "      accuracy <- correct_predictions / total_predictions\n",
    "      \n",
    "      # Store accuracy for this fold and occ_threshold\n",
    "      accuracies[fold, i] <- accuracy\n",
    "    }\n",
    "  }\n",
    "  \n",
    "  # Return mean accuracy across folds for each occ_threshold\n",
    "  mean_accuracies <- colMeans(accuracies)\n",
    "  return(data.frame(occ_threshold = occ_thresholds, mean_accuracy = mean_accuracies))\n",
    "}"
   ]
  },
  {
   "cell_type": "code",
   "execution_count": 85,
   "metadata": {
    "vscode": {
     "languageId": "r"
    }
   },
   "outputs": [
    {
     "name": "stdout",
     "output_type": "stream",
     "text": [
      "[1] 23357\n",
      "[1] 4.281372e-05\n",
      "[1] 0.0002176096\n",
      "[1] 23357\n",
      "[1] 4.281372e-05\n",
      "[1] 0.0002176096\n",
      "[1] 23357\n",
      "[1] 4.281372e-05\n",
      "[1] 0.0002176096\n",
      "[1] 23357\n",
      "[1] 4.281372e-05\n",
      "[1] 0.0002176096\n",
      "[1] 23317\n",
      "[1] 4.288716e-05\n",
      "[1] 0.0002175217\n",
      "[1] 23317\n",
      "[1] 4.288716e-05\n",
      "[1] 0.0002175217\n",
      "[1] 23317\n",
      "[1] 4.288716e-05\n",
      "[1] 0.0002175217\n",
      "[1] 23317\n",
      "[1] 4.288716e-05\n",
      "[1] 0.0002175217\n",
      "[1] 23255\n",
      "[1] 4.300151e-05\n",
      "[1] 0.0002183356\n",
      "[1] 23255\n",
      "[1] 4.300151e-05\n",
      "[1] 0.0002183356\n",
      "[1] 23255\n",
      "[1] 4.300151e-05\n",
      "[1] 0.0002183356\n",
      "[1] 23255\n",
      "[1] 4.300151e-05\n",
      "[1] 0.0002183356\n",
      "[1] 23233\n",
      "[1] 4.304222e-05\n",
      "[1] 0.0002180041\n",
      "[1] 23233\n",
      "[1] 4.304222e-05\n",
      "[1] 0.0002180041\n",
      "[1] 23233\n",
      "[1] 4.304222e-05\n",
      "[1] 0.0002180041\n",
      "[1] 23233\n",
      "[1] 4.304222e-05\n",
      "[1] 0.0002180041\n",
      "[1] 23252\n",
      "[1] 4.300705e-05\n",
      "[1] 0.0002181425\n",
      "[1] 23252\n",
      "[1] 4.300705e-05\n",
      "[1] 0.0002181425\n",
      "[1] 23252\n",
      "[1] 4.300705e-05\n",
      "[1] 0.0002181425\n",
      "[1] 23252\n",
      "[1] 4.300705e-05\n",
      "[1] 0.0002181425\n",
      "  occ_threshold mean_accuracy\n",
      "1       1.0e-05     0.8615618\n",
      "2       1.6e-05     0.8586448\n",
      "3       2.0e-05     0.8576724\n",
      "4       5.0e-05     0.8497113\n"
     ]
    }
   ],
   "source": [
    "crossval_results <- kfold_cross_validation(training_set, k = 5, occ_thresholds = c(0.00001, 0.000016, 0.00002, 0.00005))\n",
    "print(crossval_results)"
   ]
  },
  {
   "cell_type": "code",
   "execution_count": 87,
   "metadata": {
    "vscode": {
     "languageId": "r"
    }
   },
   "outputs": [
    {
     "data": {
      "text/html": [
       "<table class=\"dataframe\">\n",
       "<caption>A data.frame: 4 × 2</caption>\n",
       "<thead>\n",
       "\t<tr><th scope=col>occ_threshold</th><th scope=col>mean_accuracy</th></tr>\n",
       "\t<tr><th scope=col>&lt;dbl&gt;</th><th scope=col>&lt;dbl&gt;</th></tr>\n",
       "</thead>\n",
       "<tbody>\n",
       "\t<tr><td>1.0e-05</td><td>0.8615618</td></tr>\n",
       "\t<tr><td>1.6e-05</td><td>0.8586448</td></tr>\n",
       "\t<tr><td>2.0e-05</td><td>0.8576724</td></tr>\n",
       "\t<tr><td>5.0e-05</td><td>0.8497113</td></tr>\n",
       "</tbody>\n",
       "</table>\n"
      ],
      "text/latex": [
       "A data.frame: 4 × 2\n",
       "\\begin{tabular}{ll}\n",
       " occ\\_threshold & mean\\_accuracy\\\\\n",
       " <dbl> & <dbl>\\\\\n",
       "\\hline\n",
       "\t 1.0e-05 & 0.8615618\\\\\n",
       "\t 1.6e-05 & 0.8586448\\\\\n",
       "\t 2.0e-05 & 0.8576724\\\\\n",
       "\t 5.0e-05 & 0.8497113\\\\\n",
       "\\end{tabular}\n"
      ],
      "text/markdown": [
       "\n",
       "A data.frame: 4 × 2\n",
       "\n",
       "| occ_threshold &lt;dbl&gt; | mean_accuracy &lt;dbl&gt; |\n",
       "|---|---|\n",
       "| 1.0e-05 | 0.8615618 |\n",
       "| 1.6e-05 | 0.8586448 |\n",
       "| 2.0e-05 | 0.8576724 |\n",
       "| 5.0e-05 | 0.8497113 |\n",
       "\n"
      ],
      "text/plain": [
       "  occ_threshold mean_accuracy\n",
       "1 1.0e-05       0.8615618    \n",
       "2 1.6e-05       0.8586448    \n",
       "3 2.0e-05       0.8576724    \n",
       "4 5.0e-05       0.8497113    "
      ]
     },
     "metadata": {},
     "output_type": "display_data"
    }
   ],
   "source": [
    "crossval_results"
   ]
  },
  {
   "cell_type": "code",
   "execution_count": 88,
   "metadata": {
    "vscode": {
     "languageId": "r"
    }
   },
   "outputs": [
    {
     "name": "stdout",
     "output_type": "stream",
     "text": [
      "[1] 24163\n",
      "[1] 4.138559e-05\n",
      "[1] 0.000214054\n"
     ]
    }
   ],
   "source": [
    "model <- train_multinomial_nb_new_two_label(classes, training_set, threshold = 0.00001)"
   ]
  },
  {
   "cell_type": "code",
   "execution_count": 89,
   "metadata": {
    "vscode": {
     "languageId": "r"
    }
   },
   "outputs": [],
   "source": [
    "docs <- test_set$Text\n",
    "\n",
    "pred_labels <- sapply(docs, function(doc) {\n",
    "  apply_multinomial_nb(classes, model$vocab, model$prior, model$condprob, doc)\n",
    "})"
   ]
  },
  {
   "cell_type": "code",
   "execution_count": 92,
   "metadata": {
    "vscode": {
     "languageId": "r"
    }
   },
   "outputs": [
    {
     "name": "stdout",
     "output_type": "stream",
     "text": [
      "Accuracy: 0.8668287"
     ]
    }
   ],
   "source": [
    "correct_predictions <- sum(test_set$Label == pred_labels)\n",
    "total_predictions <- length(test_set$Label)\n",
    "accuracy <- correct_predictions / total_predictions\n",
    "\n",
    "cat(\"Accuracy:\", accuracy)"
   ]
  },
  {
   "cell_type": "code",
   "execution_count": 93,
   "metadata": {
    "vscode": {
     "languageId": "r"
    }
   },
   "outputs": [
    {
     "name": "stdout",
     "output_type": "stream",
     "text": [
      "Confusion Matrix:\n",
      "    Predicted\n",
      "True    0    1\n",
      "   0 1795  247\n",
      "   1  301 1772\n"
     ]
    }
   ],
   "source": [
    "confusion_matrix <- table(True = test_set$Label, Predicted = pred_labels)\n",
    "cat(\"Confusion Matrix:\\n\")\n",
    "print(confusion_matrix)"
   ]
  },
  {
   "cell_type": "code",
   "execution_count": null,
   "metadata": {
    "vscode": {
     "languageId": "r"
    }
   },
   "outputs": [],
   "source": [
    "false_negative <- table(True = test_docs$Label, Predicted = pred_labels)[2,1]\n",
    "false_negative"
   ]
  },
  {
   "cell_type": "markdown",
   "metadata": {},
   "source": [
    "__________________________________________________________________________________________________"
   ]
  },
  {
   "cell_type": "code",
   "execution_count": 2,
   "metadata": {
    "vscode": {
     "languageId": "r"
    }
   },
   "outputs": [],
   "source": [
    "test_set <- read.csv(\"two_label_dataset.csv\", col.names = c(\"ID\", \"Title\", \"Author\", \"Text\", \"Label\"))\n",
    "classes2 <- as.integer(sort(unique(test_set$Label)))"
   ]
  },
  {
   "cell_type": "code",
   "execution_count": 3,
   "metadata": {
    "vscode": {
     "languageId": "r"
    }
   },
   "outputs": [],
   "source": [
    "test_set$Text <- clean(test_set$Text)\n",
    "test_set <- clean_empty_rows(test_set)"
   ]
  },
  {
   "cell_type": "code",
   "execution_count": 60,
   "metadata": {
    "vscode": {
     "languageId": "r"
    }
   },
   "outputs": [
    {
     "name": "stdout",
     "output_type": "stream",
     "text": [
      "[1] 25022\n",
      "[1] 3.996483e-05\n",
      "[1] 0.0002103047\n",
      "5112"
     ]
    }
   ],
   "source": [
    "result <- get_vocabulary_two_label(test_set$Text, threshold = 0.000016)\n",
    "cat(length(result$voc))"
   ]
  },
  {
   "cell_type": "code",
   "execution_count": 33,
   "metadata": {
    "vscode": {
     "languageId": "r"
    }
   },
   "outputs": [],
   "source": [
    "dataframe <- result$df\n",
    "dataframe <- dataframe[order(-dataframe$occurrencies), ]"
   ]
  },
  {
   "cell_type": "code",
   "execution_count": 71,
   "metadata": {
    "vscode": {
     "languageId": "r"
    }
   },
   "outputs": [],
   "source": [
    "new_dataset <- test_set[1:15600, ]\n",
    "test_docs <- test_set[15600:length(test_set$Text), ]"
   ]
  },
  {
   "cell_type": "code",
   "execution_count": 72,
   "metadata": {
    "vscode": {
     "languageId": "r"
    }
   },
   "outputs": [
    {
     "name": "stdout",
     "output_type": "stream",
     "text": [
      "[1] 23910\n",
      "[1] 4.18235e-05\n",
      "[1] 0.0002150433\n"
     ]
    }
   ],
   "source": [
    "model <- train_multinomial_nb_new_two_label(classes2, new_dataset, threshold = 0.000016)\n",
    "#print(model$vocab)\n",
    "#print(model$prior)\n",
    "#print(model$post)"
   ]
  },
  {
   "cell_type": "code",
   "execution_count": 73,
   "metadata": {
    "vscode": {
     "languageId": "r"
    }
   },
   "outputs": [],
   "source": [
    "docs <- test_docs$Text\n",
    "\n",
    "pred_labels <- sapply(docs, function(doc) {\n",
    "  apply_multinomial_nb(classes2, model$vocab, model$prior, model$condprob, doc)\n",
    "})"
   ]
  },
  {
   "cell_type": "code",
   "execution_count": 75,
   "metadata": {
    "vscode": {
     "languageId": "r"
    }
   },
   "outputs": [
    {
     "name": "stdout",
     "output_type": "stream",
     "text": [
      "Accuracy: 0.864642"
     ]
    }
   ],
   "source": [
    "correct_predictions <- sum(test_docs$Label == pred_labels)\n",
    "total_predictions <- length(test_docs$Label)\n",
    "accuracy <- correct_predictions / total_predictions\n",
    "\n",
    "cat(\"Accuracy:\", accuracy)"
   ]
  },
  {
   "cell_type": "code",
   "execution_count": 76,
   "metadata": {
    "vscode": {
     "languageId": "r"
    }
   },
   "outputs": [
    {
     "name": "stdout",
     "output_type": "stream",
     "text": [
      "Confusion Matrix:\n",
      "    Predicted\n",
      "True    0    1\n",
      "   0 2181  313\n",
      "   1  360 2118\n"
     ]
    }
   ],
   "source": [
    "confusion_matrix <- table(True = test_docs$Label, Predicted = pred_labels)\n",
    "cat(\"Confusion Matrix:\\n\")\n",
    "print(confusion_matrix)"
   ]
  },
  {
   "cell_type": "code",
   "execution_count": 79,
   "metadata": {
    "vscode": {
     "languageId": "r"
    }
   },
   "outputs": [
    {
     "data": {
      "text/html": [
       "360"
      ],
      "text/latex": [
       "360"
      ],
      "text/markdown": [
       "360"
      ],
      "text/plain": [
       "[1] 360"
      ]
     },
     "metadata": {},
     "output_type": "display_data"
    }
   ],
   "source": [
    "false_negative <- table(True = test_docs$Label, Predicted = pred_labels)[2,1]\n",
    "false_negative"
   ]
  }
 ],
 "metadata": {
  "kernelspec": {
   "display_name": "R",
   "language": "R",
   "name": "ir"
  },
  "language_info": {
   "codemirror_mode": "r",
   "file_extension": ".r",
   "mimetype": "text/x-r-source",
   "name": "R",
   "pygments_lexer": "r",
   "version": "4.2.0"
  }
 },
 "nbformat": 4,
 "nbformat_minor": 2
}
