{
 "cells": [
  {
   "cell_type": "code",
   "execution_count": 61,
   "metadata": {
    "vscode": {
     "languageId": "r"
    }
   },
   "outputs": [],
   "source": [
    "source(\"./aux_2.R\")"
   ]
  },
  {
   "cell_type": "code",
   "execution_count": 2,
   "metadata": {
    "vscode": {
     "languageId": "r"
    }
   },
   "outputs": [],
   "source": [
    "test_set <- read.csv(\"two_label_dataset.csv\", col.names = c(\"ID\", \"Title\", \"Author\", \"Text\", \"Label\"))\n",
    "classes2 <- as.integer(sort(unique(test_set$Label)))"
   ]
  },
  {
   "cell_type": "code",
   "execution_count": 3,
   "metadata": {
    "vscode": {
     "languageId": "r"
    }
   },
   "outputs": [],
   "source": [
    "test_set$Text <- clean(test_set$Text)\n",
    "test_set <- clean_empty_rows(test_set)"
   ]
  },
  {
   "cell_type": "code",
   "execution_count": 60,
   "metadata": {
    "vscode": {
     "languageId": "r"
    }
   },
   "outputs": [
    {
     "name": "stdout",
     "output_type": "stream",
     "text": [
      "[1] 25022\n",
      "[1] 3.996483e-05\n",
      "[1] 0.0002103047\n",
      "5112"
     ]
    }
   ],
   "source": [
    "result <- get_vocabulary_two_label(test_set$Text, threshold = 0.000016)\n",
    "cat(length(result$voc))"
   ]
  },
  {
   "cell_type": "code",
   "execution_count": 33,
   "metadata": {
    "vscode": {
     "languageId": "r"
    }
   },
   "outputs": [],
   "source": [
    "dataframe <- result$df\n",
    "dataframe <- dataframe[order(-dataframe$occurrencies), ]"
   ]
  },
  {
   "cell_type": "code",
   "execution_count": 71,
   "metadata": {
    "vscode": {
     "languageId": "r"
    }
   },
   "outputs": [],
   "source": [
    "new_dataset <- test_set[1:15600, ]\n",
    "test_docs <- test_set[15600:length(test_set$Text), ]"
   ]
  },
  {
   "cell_type": "code",
   "execution_count": 72,
   "metadata": {
    "vscode": {
     "languageId": "r"
    }
   },
   "outputs": [
    {
     "name": "stdout",
     "output_type": "stream",
     "text": [
      "[1] 23910\n",
      "[1] 4.18235e-05\n",
      "[1] 0.0002150433\n"
     ]
    }
   ],
   "source": [
    "model <- train_multinomial_nb_new_two_label(classes2, new_dataset, threshold = 0.000016)\n",
    "#print(model$vocab)\n",
    "#print(model$prior)\n",
    "#print(model$post)"
   ]
  },
  {
   "cell_type": "code",
   "execution_count": 73,
   "metadata": {
    "vscode": {
     "languageId": "r"
    }
   },
   "outputs": [],
   "source": [
    "docs <- test_docs$Text\n",
    "\n",
    "pred_labels <- sapply(docs, function(doc) {\n",
    "  apply_multinomial_nb(classes2, model$vocab, model$prior, model$condprob, doc)\n",
    "})"
   ]
  },
  {
   "cell_type": "code",
   "execution_count": 75,
   "metadata": {
    "vscode": {
     "languageId": "r"
    }
   },
   "outputs": [
    {
     "name": "stdout",
     "output_type": "stream",
     "text": [
      "Accuracy: 0.864642"
     ]
    }
   ],
   "source": [
    "correct_predictions <- sum(test_docs$Label == pred_labels)\n",
    "total_predictions <- length(test_docs$Label)\n",
    "accuracy <- correct_predictions / total_predictions\n",
    "\n",
    "cat(\"Accuracy:\", accuracy)"
   ]
  },
  {
   "cell_type": "code",
   "execution_count": null,
   "metadata": {
    "vscode": {
     "languageId": "r"
    }
   },
   "outputs": [],
   "source": []
  }
 ],
 "metadata": {
  "kernelspec": {
   "display_name": "R",
   "language": "R",
   "name": "ir"
  },
  "language_info": {
   "codemirror_mode": "r",
   "file_extension": ".r",
   "mimetype": "text/x-r-source",
   "name": "R",
   "pygments_lexer": "r",
   "version": "4.2.0"
  }
 },
 "nbformat": 4,
 "nbformat_minor": 2
}
